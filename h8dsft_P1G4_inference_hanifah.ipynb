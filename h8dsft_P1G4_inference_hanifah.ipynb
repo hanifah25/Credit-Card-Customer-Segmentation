{
 "cells": [
  {
   "cell_type": "code",
   "execution_count": 28,
   "metadata": {},
   "outputs": [],
   "source": [
    "#import library\n",
    "import pandas as pd\n",
    "import pickle"
   ]
  },
  {
   "cell_type": "code",
   "execution_count": 29,
   "metadata": {},
   "outputs": [],
   "source": [
    "# Simpan full pipeline ke dalam file model_full_pipeline.pkl\n",
    "with open('model_full_pipeline.pkl', 'rb') as file1:\n",
    "   model_full_pipeline = pickle.load(file1)\n",
    "\n",
    "# Simpan model logreg ke dalam file model_logreg.pkl\n",
    "with open('model_kmeans.pkl', 'rb') as file2:\n",
    "   model_kmeans = pickle.load(file2)"
   ]
  },
  {
   "cell_type": "code",
   "execution_count": 30,
   "metadata": {},
   "outputs": [],
   "source": [
    "data ={'CASH_ADVANCE' : [0.000000,1004.279993,0.000000,973.827667,0.000000],\n",
    "        'BALANCE' :[1083.379171, 516.492760, 109.009133, 1929.069939, 158.657744],\n",
    "        'PURCHASES' : [9.90,380.00,749.18,0.00,752.00],\n",
    "        'CREDIT_LIMIT' : [1900.0,1200.0,1000.0,2500.0,2500.0],\n",
    "        'PURCHASES_TRX' : [1,6,10,0,4]}"
   ]
  },
  {
   "cell_type": "code",
   "execution_count": 31,
   "metadata": {},
   "outputs": [
    {
     "data": {
      "text/html": [
       "<div>\n",
       "<style scoped>\n",
       "    .dataframe tbody tr th:only-of-type {\n",
       "        vertical-align: middle;\n",
       "    }\n",
       "\n",
       "    .dataframe tbody tr th {\n",
       "        vertical-align: top;\n",
       "    }\n",
       "\n",
       "    .dataframe thead th {\n",
       "        text-align: right;\n",
       "    }\n",
       "</style>\n",
       "<table border=\"1\" class=\"dataframe\">\n",
       "  <thead>\n",
       "    <tr style=\"text-align: right;\">\n",
       "      <th></th>\n",
       "      <th>CASH_ADVANCE</th>\n",
       "      <th>BALANCE</th>\n",
       "      <th>PURCHASES</th>\n",
       "      <th>CREDIT_LIMIT</th>\n",
       "      <th>PURCHASES_TRX</th>\n",
       "    </tr>\n",
       "  </thead>\n",
       "  <tbody>\n",
       "    <tr>\n",
       "      <th>0</th>\n",
       "      <td>0.000000</td>\n",
       "      <td>1083.379171</td>\n",
       "      <td>9.90</td>\n",
       "      <td>1900.0</td>\n",
       "      <td>1</td>\n",
       "    </tr>\n",
       "    <tr>\n",
       "      <th>1</th>\n",
       "      <td>1004.279993</td>\n",
       "      <td>516.492760</td>\n",
       "      <td>380.00</td>\n",
       "      <td>1200.0</td>\n",
       "      <td>6</td>\n",
       "    </tr>\n",
       "    <tr>\n",
       "      <th>2</th>\n",
       "      <td>0.000000</td>\n",
       "      <td>109.009133</td>\n",
       "      <td>749.18</td>\n",
       "      <td>1000.0</td>\n",
       "      <td>10</td>\n",
       "    </tr>\n",
       "    <tr>\n",
       "      <th>3</th>\n",
       "      <td>973.827667</td>\n",
       "      <td>1929.069939</td>\n",
       "      <td>0.00</td>\n",
       "      <td>2500.0</td>\n",
       "      <td>0</td>\n",
       "    </tr>\n",
       "    <tr>\n",
       "      <th>4</th>\n",
       "      <td>0.000000</td>\n",
       "      <td>158.657744</td>\n",
       "      <td>752.00</td>\n",
       "      <td>2500.0</td>\n",
       "      <td>4</td>\n",
       "    </tr>\n",
       "  </tbody>\n",
       "</table>\n",
       "</div>"
      ],
      "text/plain": [
       "   CASH_ADVANCE      BALANCE  PURCHASES  CREDIT_LIMIT  PURCHASES_TRX\n",
       "0      0.000000  1083.379171       9.90        1900.0              1\n",
       "1   1004.279993   516.492760     380.00        1200.0              6\n",
       "2      0.000000   109.009133     749.18        1000.0             10\n",
       "3    973.827667  1929.069939       0.00        2500.0              0\n",
       "4      0.000000   158.657744     752.00        2500.0              4"
      ]
     },
     "execution_count": 31,
     "metadata": {},
     "output_type": "execute_result"
    }
   ],
   "source": [
    "inf = pd.DataFrame(data,columns=data.keys())\n",
    "inf"
   ]
  },
  {
   "cell_type": "code",
   "execution_count": 32,
   "metadata": {},
   "outputs": [
    {
     "data": {
      "text/plain": [
       "array([[-2.09470186e-01, -2.55624697e-01,  9.60805501e-02],\n",
       "       [-1.84119901e-01, -1.24107797e-01, -1.34725840e-01],\n",
       "       [-1.51590795e-02, -3.01413353e-01, -6.04043113e-02],\n",
       "       [-2.87843454e-01, -2.59452024e-02,  4.30009645e-02],\n",
       "       [-6.16264519e-02, -2.81416314e-01,  2.04488265e-04]])"
      ]
     },
     "execution_count": 32,
     "metadata": {},
     "output_type": "execute_result"
    }
   ],
   "source": [
    "#memanggile pipline sebagai preprocess\n",
    "full_pipeline = model_full_pipeline.transform(inf)\n",
    "full_pipeline"
   ]
  },
  {
   "cell_type": "code",
   "execution_count": 33,
   "metadata": {},
   "outputs": [],
   "source": [
    "inf_final = full_pipeline.copy()"
   ]
  },
  {
   "cell_type": "code",
   "execution_count": 34,
   "metadata": {},
   "outputs": [],
   "source": [
    "inf_pred_model = model_kmeans.predict(inf_final)"
   ]
  },
  {
   "cell_type": "code",
   "execution_count": 35,
   "metadata": {},
   "outputs": [
    {
     "data": {
      "text/html": [
       "<div>\n",
       "<style scoped>\n",
       "    .dataframe tbody tr th:only-of-type {\n",
       "        vertical-align: middle;\n",
       "    }\n",
       "\n",
       "    .dataframe tbody tr th {\n",
       "        vertical-align: top;\n",
       "    }\n",
       "\n",
       "    .dataframe thead th {\n",
       "        text-align: right;\n",
       "    }\n",
       "</style>\n",
       "<table border=\"1\" class=\"dataframe\">\n",
       "  <thead>\n",
       "    <tr style=\"text-align: right;\">\n",
       "      <th></th>\n",
       "      <th>Pred_cluster</th>\n",
       "    </tr>\n",
       "  </thead>\n",
       "  <tbody>\n",
       "    <tr>\n",
       "      <th>0</th>\n",
       "      <td>2</td>\n",
       "    </tr>\n",
       "    <tr>\n",
       "      <th>1</th>\n",
       "      <td>2</td>\n",
       "    </tr>\n",
       "    <tr>\n",
       "      <th>2</th>\n",
       "      <td>2</td>\n",
       "    </tr>\n",
       "    <tr>\n",
       "      <th>3</th>\n",
       "      <td>2</td>\n",
       "    </tr>\n",
       "    <tr>\n",
       "      <th>4</th>\n",
       "      <td>2</td>\n",
       "    </tr>\n",
       "  </tbody>\n",
       "</table>\n",
       "</div>"
      ],
      "text/plain": [
       "   Pred_cluster\n",
       "0             2\n",
       "1             2\n",
       "2             2\n",
       "3             2\n",
       "4             2"
      ]
     },
     "execution_count": 35,
     "metadata": {},
     "output_type": "execute_result"
    }
   ],
   "source": [
    "df_pred_model = pd.DataFrame(inf_pred_model, columns=['Pred_cluster']) \n",
    "df_pred_model"
   ]
  },
  {
   "cell_type": "code",
   "execution_count": 36,
   "metadata": {},
   "outputs": [
    {
     "data": {
      "text/html": [
       "<div>\n",
       "<style scoped>\n",
       "    .dataframe tbody tr th:only-of-type {\n",
       "        vertical-align: middle;\n",
       "    }\n",
       "\n",
       "    .dataframe tbody tr th {\n",
       "        vertical-align: top;\n",
       "    }\n",
       "\n",
       "    .dataframe thead th {\n",
       "        text-align: right;\n",
       "    }\n",
       "</style>\n",
       "<table border=\"1\" class=\"dataframe\">\n",
       "  <thead>\n",
       "    <tr style=\"text-align: right;\">\n",
       "      <th></th>\n",
       "      <th>CASH_ADVANCE</th>\n",
       "      <th>BALANCE</th>\n",
       "      <th>PURCHASES</th>\n",
       "      <th>CREDIT_LIMIT</th>\n",
       "      <th>PURCHASES_TRX</th>\n",
       "      <th>Pred_cluster</th>\n",
       "    </tr>\n",
       "  </thead>\n",
       "  <tbody>\n",
       "    <tr>\n",
       "      <th>0</th>\n",
       "      <td>0.000000</td>\n",
       "      <td>1083.379171</td>\n",
       "      <td>9.90</td>\n",
       "      <td>1900.0</td>\n",
       "      <td>1</td>\n",
       "      <td>2</td>\n",
       "    </tr>\n",
       "    <tr>\n",
       "      <th>1</th>\n",
       "      <td>1004.279993</td>\n",
       "      <td>516.492760</td>\n",
       "      <td>380.00</td>\n",
       "      <td>1200.0</td>\n",
       "      <td>6</td>\n",
       "      <td>2</td>\n",
       "    </tr>\n",
       "    <tr>\n",
       "      <th>2</th>\n",
       "      <td>0.000000</td>\n",
       "      <td>109.009133</td>\n",
       "      <td>749.18</td>\n",
       "      <td>1000.0</td>\n",
       "      <td>10</td>\n",
       "      <td>2</td>\n",
       "    </tr>\n",
       "    <tr>\n",
       "      <th>3</th>\n",
       "      <td>973.827667</td>\n",
       "      <td>1929.069939</td>\n",
       "      <td>0.00</td>\n",
       "      <td>2500.0</td>\n",
       "      <td>0</td>\n",
       "      <td>2</td>\n",
       "    </tr>\n",
       "    <tr>\n",
       "      <th>4</th>\n",
       "      <td>0.000000</td>\n",
       "      <td>158.657744</td>\n",
       "      <td>752.00</td>\n",
       "      <td>2500.0</td>\n",
       "      <td>4</td>\n",
       "      <td>2</td>\n",
       "    </tr>\n",
       "  </tbody>\n",
       "</table>\n",
       "</div>"
      ],
      "text/plain": [
       "   CASH_ADVANCE      BALANCE  PURCHASES  CREDIT_LIMIT  PURCHASES_TRX  \\\n",
       "0      0.000000  1083.379171       9.90        1900.0              1   \n",
       "1   1004.279993   516.492760     380.00        1200.0              6   \n",
       "2      0.000000   109.009133     749.18        1000.0             10   \n",
       "3    973.827667  1929.069939       0.00        2500.0              0   \n",
       "4      0.000000   158.657744     752.00        2500.0              4   \n",
       "\n",
       "   Pred_cluster  \n",
       "0             2  \n",
       "1             2  \n",
       "2             2  \n",
       "3             2  \n",
       "4             2  "
      ]
     },
     "execution_count": 36,
     "metadata": {},
     "output_type": "execute_result"
    }
   ],
   "source": [
    "#menggabungkan dataframe dengan pred model\n",
    "df_combined = pd.concat([inf, df_pred_model], axis=1)\n",
    "df_combined"
   ]
  },
  {
   "attachments": {},
   "cell_type": "markdown",
   "metadata": {},
   "source": [
    "dari hasil kerja model dan dilakukan dengan data random seperti data yang sudah di inputkan di atas model dapat memprediksi dengan ketentuan \n",
    "Kategori pengguna kartu kredit:\n",
    "\n",
    "* Cluster 0 = diatas rata-rata\n",
    "* Cluster 1 = menengah\n",
    "* Cluster 2 = dibawah rata-rata"
   ]
  }
 ],
 "metadata": {
  "kernelspec": {
   "display_name": "base",
   "language": "python",
   "name": "python3"
  },
  "language_info": {
   "codemirror_mode": {
    "name": "ipython",
    "version": 3
   },
   "file_extension": ".py",
   "mimetype": "text/x-python",
   "name": "python",
   "nbconvert_exporter": "python",
   "pygments_lexer": "ipython3",
   "version": "3.9.15"
  },
  "orig_nbformat": 4
 },
 "nbformat": 4,
 "nbformat_minor": 2
}
